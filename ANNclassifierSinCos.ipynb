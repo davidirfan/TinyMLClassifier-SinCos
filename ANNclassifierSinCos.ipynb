{
  "cells": [
    {
      "cell_type": "code",
      "execution_count": null,
      "metadata": {
        "colab": {
          "base_uri": "https://localhost:8080/"
        },
        "id": "drtlyX2nQlTh",
        "outputId": "9bf8749d-de61-4ebd-c970-3c5db59723bb"
      },
      "outputs": [],
      "source": [
        "print(\"bismillahhirahmanirrahim\")"
      ]
    },
    {
      "cell_type": "markdown",
      "metadata": {
        "id": "xeFpgx0wajf1"
      },
      "source": [
        "# Training ANN Classifier Sinus-Cosinus Graph"
      ]
    },
    {
      "cell_type": "markdown",
      "metadata": {
        "id": "gVUZgRmuayq6"
      },
      "source": [
        "## Import Library & CSV"
      ]
    },
    {
      "cell_type": "code",
      "execution_count": 2,
      "metadata": {
        "id": "gmJ4t-gHRL0X"
      },
      "outputs": [],
      "source": [
        "import tensorflow as tf\n",
        "import numpy as np                  # Math library\n",
        "import matplotlib.pyplot as plt     # graphing library\n",
        "import pandas as pd\n",
        "import math                         # In-python math library"
      ]
    },
    {
      "cell_type": "markdown",
      "metadata": {
        "id": "QVGzQn7zvBhY"
      },
      "source": [
        "**EXPLANATION OF CELL ABOVE**<br>\n",
        "menggunakan library (...) untuk (...)"
      ]
    },
    {
      "cell_type": "code",
      "execution_count": null,
      "metadata": {
        "colab": {
          "base_uri": "https://localhost:8080/",
          "height": 224
        },
        "id": "M_4DjKuWRdZG",
        "outputId": "9343c1e5-06ee-4043-af69-f9d8798911f8"
      },
      "outputs": [],
      "source": [
        "# import file csv\n",
        "file_path = 'dataSinCos.csv'\n",
        "\n",
        "df = pd.read_csv(file_path)\n",
        "df.head()  # Print the first few rows of the DataFrame"
      ]
    },
    {
      "cell_type": "markdown",
      "metadata": {
        "id": "_v3s6vI_vDJb"
      },
      "source": [
        "**EXPLANATION OF CELL ABOVE**<br>\n",
        "mengambil data csv"
      ]
    },
    {
      "cell_type": "code",
      "execution_count": null,
      "metadata": {
        "colab": {
          "base_uri": "https://localhost:8080/"
        },
        "id": "AivMVNNZSB7P",
        "outputId": "6ebf4dcc-8c33-4cf8-c364-275e829745fe"
      },
      "outputs": [],
      "source": [
        "df.info()"
      ]
    },
    {
      "cell_type": "code",
      "execution_count": null,
      "metadata": {},
      "outputs": [],
      "source": [
        "# prompt: convert float64 to float32\n",
        "\n",
        "# Assuming 'df' is your DataFrame and you want to convert a specific column\n",
        "# Replace 'column_name' with the actual name of the column you want to convert\n",
        "df['x'] = df['x'].astype(np.float32)\n",
        "df['y'] = df['y'].astype(np.float32)\n",
        "# Verify the change\n",
        "df.info()"
      ]
    },
    {
      "cell_type": "code",
      "execution_count": null,
      "metadata": {},
      "outputs": [],
      "source": [
        "df.head()"
      ]
    },
    {
      "cell_type": "markdown",
      "metadata": {
        "id": "y618pab5vEYr"
      },
      "source": [
        "**EXPLANATION OF CELL ABOVE**<br>\n",
        "memeriksa data"
      ]
    },
    {
      "cell_type": "markdown",
      "metadata": {
        "id": "BxplN98fbYLz"
      },
      "source": [
        "## Plot DATA"
      ]
    },
    {
      "cell_type": "code",
      "execution_count": null,
      "metadata": {
        "colab": {
          "base_uri": "https://localhost:8080/",
          "height": 514
        },
        "id": "QWsE5LUZTRCq",
        "outputId": "259e2f5f-c2a1-45da-c810-550195b2af66"
      },
      "outputs": [],
      "source": [
        "# prompt: make a new plot chart based on label, label 'sin' colored as blue and label 'cos' as red\n",
        "\n",
        "plt.figure(figsize=(10, 6))  # Adjust figure size if needed\n",
        "\n",
        "# Plot 'sin' data points in blue\n",
        "plt.plot(df[df['label'] == 0]['x'],\n",
        "         df[df['label'] == 0]['y'],\n",
        "         'b.', label=0)\n",
        "\n",
        "# Plot 'cos' data points in red\n",
        "plt.plot(df[df['label'] == 1]['x'],\n",
        "         df[df['label'] == 1]['y'],\n",
        "         'r.', label=1)\n",
        "\n",
        "plt.xlabel('x')  # Add x-axis label\n",
        "plt.ylabel('y')  # Add y-axis label\n",
        "plt.title('Sinusoidal and Cosinusoidal Data') # Add title\n",
        "plt.legend() #Show Legend\n",
        "plt.grid(True) # Add grid for better readability\n",
        "plt.show()"
      ]
    },
    {
      "cell_type": "markdown",
      "metadata": {
        "id": "n3-WlQCovYFv"
      },
      "source": [
        "**EXPLANATION OF CELL ABOVE**<br>\n",
        "memeriksa data dengan grafik"
      ]
    },
    {
      "cell_type": "markdown",
      "metadata": {
        "id": "C33F-JyObeCd"
      },
      "source": [
        "## Build ANN Model"
      ]
    },
    {
      "cell_type": "code",
      "execution_count": null,
      "metadata": {
        "colab": {
          "base_uri": "https://localhost:8080/"
        },
        "id": "dFCGJXH2UEUV",
        "outputId": "60c1ebd6-6122-4208-ae16-f6d960e70388"
      },
      "outputs": [],
      "source": [
        "# prompt: initiate ML program of ANN\n",
        "\n",
        "# BUAT MODEL\n",
        "# Define the model of ANN\n",
        "model = tf.keras.Sequential([\n",
        "    tf.keras.layers.Dense(128, activation='relu', input_shape=(2,)),  # Input layer with 2 features (x, y)\n",
        "    tf.keras.layers.Dense(64, activation='relu'),\n",
        "    tf.keras.layers.Dense(32, activation='relu'),\n",
        "    tf.keras.layers.Dense(2, activation='softmax')  # Output layer with 2 units for binary classification\n",
        "])\n",
        "\n"
      ]
    },
    {
      "cell_type": "markdown",
      "metadata": {
        "id": "A81Q8AhhvZlO"
      },
      "source": [
        "**EXPLANATION OF CELL ABOVE**<br>\n",
        "- keras.sequential<br>\n",
        "initiate stacking layers.  simple feedforward networks where the flow of data is straightforward.\n",
        "- layers.Dense = layers is the place where neural nodes transform, calculate, compute the input data. each nodes connect to the next layers.<br>\n",
        "Dense means a fully connected layers of nodes\n",
        "- activation = activate function which allow nodes to learn the pattern of data\n",
        "- relu = Rectified Linear Unit (ReLU), a function of non-linearity.\n",
        "- softmax = activation function outputs probabilities that sum to 1. The output represents the model's confidence in each class."
      ]
    },
    {
      "cell_type": "code",
      "execution_count": 10,
      "metadata": {
        "id": "2pjNGw5lUUVI"
      },
      "outputs": [],
      "source": [
        "# COMPILE MODEL\n",
        "# Compile the model\n",
        "model.compile(optimizer='adam',\n",
        "              loss='sparse_categorical_crossentropy',\n",
        "              metrics=['accuracy'])"
      ]
    },
    {
      "cell_type": "markdown",
      "metadata": {
        "id": "vFB3zuh9vbLd"
      },
      "source": [
        "**EXPLANATION OF CELL ABOVE**<br>\n",
        "- optimizer :  adjust the model's weights to minimize the loss function during training.\n",
        "- adam : Adaptive Moment Estimation\n",
        "- loss : the difference between the model's predictions and the true labels.\n",
        "- metrics : the percentage of predictions that match the true labels."
      ]
    },
    {
      "cell_type": "markdown",
      "metadata": {
        "id": "jvjrXwbGbkIU"
      },
      "source": [
        "## Prepare Data Training & Testing"
      ]
    },
    {
      "cell_type": "code",
      "execution_count": 11,
      "metadata": {
        "id": "tjfMtfIDUXqD"
      },
      "outputs": [],
      "source": [
        "# Prepare the data\n",
        "X = df[['x', 'y']].values  # Features (x, y) AS INDEPENDENT VARIABLE\n",
        "y = df['label'].values     # Labels AS DEPENDENT VARIBLE\n"
      ]
    },
    {
      "cell_type": "code",
      "execution_count": 12,
      "metadata": {
        "id": "dm8rCIGoUatq"
      },
      "outputs": [],
      "source": [
        "# Split the data into training and testing sets\n",
        "from sklearn.model_selection import train_test_split\n",
        "X_train, X_test, y_train, y_test = train_test_split(X, y, test_size=0.2, random_state=42)"
      ]
    },
    {
      "cell_type": "markdown",
      "metadata": {
        "id": "OLirDqozbpBs"
      },
      "source": [
        "## Training Model"
      ]
    },
    {
      "cell_type": "code",
      "execution_count": null,
      "metadata": {
        "colab": {
          "base_uri": "https://localhost:8080/"
        },
        "id": "xDChkGgSUgMy",
        "outputId": "0246959c-4a15-468a-aeac-7c9d0dc1b1fd"
      },
      "outputs": [],
      "source": [
        "# Train the model\n",
        "history = model.fit(X_train, y_train, epochs=200, batch_size=32, validation_data=(X_test, y_test)) # Adjust the number of epochs and batch size if needed\n"
      ]
    },
    {
      "cell_type": "markdown",
      "metadata": {
        "id": "DBc4WeUjbvl9"
      },
      "source": [
        "## Cek Akurasi"
      ]
    },
    {
      "cell_type": "code",
      "execution_count": null,
      "metadata": {
        "colab": {
          "base_uri": "https://localhost:8080/"
        },
        "id": "qhgll3BTUR9z",
        "outputId": "9bf68937-ffe9-45e8-8408-19e69aa098b6"
      },
      "outputs": [],
      "source": [
        "# Evaluate the model\n",
        "loss, accuracy = model.evaluate(X_test, y_test)\n",
        "print(f\"Test Loss: {loss}\")\n",
        "print(f\"Test Accuracy: {accuracy}\")"
      ]
    },
    {
      "cell_type": "code",
      "execution_count": null,
      "metadata": {
        "colab": {
          "base_uri": "https://localhost:8080/",
          "height": 273
        },
        "id": "I67KgJEYD_98",
        "outputId": "13f821ed-c8cb-427b-d337-d6f00f2d2e53"
      },
      "outputs": [],
      "source": [
        "# Plot the accuracy and loss\n",
        "plt.figure(figsize=(12, 4))\n",
        "\n",
        "plt.subplot(1, 2, 1)\n",
        "plt.plot(history.history['accuracy'], label='Training Accuracy')\n",
        "plt.plot(history.history['val_accuracy'], label='Validation Accuracy')\n",
        "plt.xlabel('Epoch')\n",
        "plt.ylabel('Accuracy')\n",
        "plt.legend()\n",
        "plt.title('Training and Validation Accuracy')\n",
        "\n",
        "plt.subplot(1, 2, 2)\n",
        "plt.plot(history.history['loss'], label='Training Loss')\n",
        "plt.plot(history.history['val_loss'], label='Validation Loss')\n",
        "plt.xlabel('Epoch')\n",
        "plt.ylabel('Loss')\n",
        "plt.legend()\n",
        "plt.title('Training and Validation Loss')\n",
        "\n",
        "plt.tight_layout()\n",
        "plt.show()"
      ]
    },
    {
      "cell_type": "code",
      "execution_count": null,
      "metadata": {
        "colab": {
          "base_uri": "https://localhost:8080/",
          "height": 532
        },
        "id": "g4Jt5C7GVwrq",
        "outputId": "26cfe45d-130c-438f-978f-e08a141f02fd"
      },
      "outputs": [],
      "source": [
        "# prompt: display the training and predicted result on chart\n",
        "\n",
        "# Predict on the test set\n",
        "y_pred = model.predict(X_test)\n",
        "y_pred_classes = np.argmax(y_pred, axis=1)  # Get predicted classes\n",
        "\n",
        "# Create the plot\n",
        "plt.figure(figsize=(10, 6))\n",
        "\n",
        "# Plot the actual data points\n",
        "plt.scatter(X_test[y_test == 0, 0], X_test[y_test == 0, 1], c='blue', label='Actual 0', marker='o')\n",
        "plt.scatter(X_test[y_test == 1, 0], X_test[y_test == 1, 1], c='red', label='Actual 1', marker='o')\n",
        "\n",
        "\n",
        "# Plot the predicted data points\n",
        "plt.scatter(X_test[y_pred_classes == 0, 0], X_test[y_pred_classes == 0, 1], c='lightblue', label='Predicted 0', marker='x')\n",
        "plt.scatter(X_test[y_pred_classes == 1, 0], X_test[y_pred_classes == 1, 1], c='pink', label='Predicted 1', marker='x')\n",
        "\n",
        "plt.xlabel('x')\n",
        "plt.ylabel('y')\n",
        "plt.title('Actual vs. Predicted Values')\n",
        "plt.legend()\n",
        "plt.grid(True)\n",
        "plt.show()"
      ]
    },
    {
      "cell_type": "code",
      "execution_count": null,
      "metadata": {
        "colab": {
          "base_uri": "https://localhost:8080/",
          "height": 626
        },
        "id": "7lj3SyP_WAHo",
        "outputId": "5da23ac0-f778-4c06-9acf-59f328b44d54"
      },
      "outputs": [],
      "source": [
        "# prompt: display the result as confusion matrix\n",
        "\n",
        "import matplotlib.pyplot as plt\n",
        "import numpy as np\n",
        "from sklearn.metrics import confusion_matrix\n",
        "\n",
        "# Assuming y_test and y_pred_classes are defined from your previous code\n",
        "cm = confusion_matrix(y_test, y_pred_classes)\n",
        "\n",
        "# Plot the confusion matrix\n",
        "plt.figure(figsize=(8, 6))\n",
        "plt.imshow(cm, interpolation='nearest', cmap=plt.cm.Blues)\n",
        "plt.title('Confusion Matrix')\n",
        "plt.colorbar()\n",
        "\n",
        "classes = np.unique(y_test)  # Get unique class labels\n",
        "tick_marks = np.arange(len(classes))\n",
        "plt.xticks(tick_marks, classes, rotation=45)\n",
        "plt.yticks(tick_marks, classes)\n",
        "\n",
        "thresh = cm.max() / 2.\n",
        "for i, j in np.ndindex(cm.shape):\n",
        "    plt.text(j, i, format(cm[i, j], 'd'),\n",
        "             horizontalalignment=\"center\",\n",
        "             color=\"white\" if cm[i, j] > thresh else \"black\")\n",
        "\n",
        "plt.tight_layout()\n",
        "plt.ylabel('True label')\n",
        "plt.xlabel('Predicted label')\n",
        "plt.show()"
      ]
    },
    {
      "cell_type": "code",
      "execution_count": null,
      "metadata": {
        "colab": {
          "base_uri": "https://localhost:8080/"
        },
        "id": "DQla-BuAViXU",
        "outputId": "78fbcaf5-e7fe-4854-85e6-054962651d27"
      },
      "outputs": [],
      "source": [
        "# prompt: display the predicted result\n",
        "\n",
        "# Predict on new data\n",
        "# Example new data points\n",
        "new_data = np.array([[0.5, 0.8], [0.2, 0.1]])  # Example input features (x, y)\n",
        "\n",
        "# Make predictions\n",
        "predictions = model.predict(new_data)\n",
        "\n",
        "# Print predictions\n",
        "print(\"Predictions:\")\n",
        "print(predictions)\n",
        "\n",
        "# Get predicted classes (0 or 1)\n",
        "predicted_classes = np.argmax(predictions, axis=1)\n",
        "\n",
        "# Print predicted classes\n",
        "print(\"\\nPredicted Classes:\")\n",
        "predicted_classes"
      ]
    },
    {
      "cell_type": "markdown",
      "metadata": {},
      "source": [
        "## Save ANN Model & Convert to TFLite"
      ]
    },
    {
      "cell_type": "code",
      "execution_count": 22,
      "metadata": {
        "id": "FW-yPFH_Fj_U"
      },
      "outputs": [],
      "source": [
        "# Save the model as Keras model (reguler ML)\n",
        "model.save('model.keras')"
      ]
    },
    {
      "cell_type": "code",
      "execution_count": null,
      "metadata": {},
      "outputs": [],
      "source": [
        "# Convert the model as .TFLite (TinyML)\n",
        "converter = tf.lite.TFLiteConverter.from_keras_model(model)\n",
        "tflite_model = converter.convert()\n",
        "\n",
        "# Save the model.\n",
        "with open('model.tflite', 'wb') as f:\n",
        "  f.write(tflite_model)"
      ]
    },
    {
      "cell_type": "code",
      "execution_count": null,
      "metadata": {},
      "outputs": [],
      "source": [
        "# prompt: Convert the model to the TensorFlow Lite format with quantization as .TFLite (TinyML)\n",
        "\n",
        "converter = tf.lite.TFLiteConverter.from_keras_model(model)\n",
        "converter.optimizations = [tf.lite.Optimize.DEFAULT]\n",
        "tflite_quant_model = converter.convert()\n",
        "\n",
        "# Save the quantized model.\n",
        "with open('model_quantized.tflite', 'wb') as f:\n",
        "  f.write(tflite_quant_model)"
      ]
    },
    {
      "cell_type": "markdown",
      "metadata": {},
      "source": [
        "## Cek akurasi file model (Keras & TFLite)"
      ]
    },
    {
      "cell_type": "code",
      "execution_count": null,
      "metadata": {},
      "outputs": [],
      "source": [
        "# Load the Keras model\n",
        "keras_model = tf.keras.models.load_model('model.keras')\n",
        "\n",
        "# Load the TFLite model\n",
        "interpreter = tf.lite.Interpreter(model_path='model.tflite')\n",
        "interpreter.allocate_tensors()\n",
        "\n",
        "# Get input and output details\n",
        "input_details = interpreter.get_input_details()\n",
        "output_details = interpreter.get_output_details()\n",
        "\n",
        "# Evaluate the Keras model\n",
        "keras_loss, keras_accuracy = keras_model.evaluate(X_test, y_test, verbose=0)\n",
        "print(f\"Keras Model - Loss: {keras_loss}, Accuracy: {keras_accuracy}\")\n",
        "\n",
        "# Evaluate the TFLite model\n",
        "tflite_accuracy = 0\n",
        "tflite_loss = 0\n",
        "num_test_samples = len(X_test)\n",
        "for i in range(num_test_samples):\n",
        "    # Get the input tensor\n",
        "    input_data = np.array([X_test[i]], dtype=np.float32)\n",
        "\n",
        "    # Set the input tensor\n",
        "    interpreter.set_tensor(input_details[0]['index'], input_data)\n",
        "\n",
        "    # Run inference\n",
        "    interpreter.invoke()\n",
        "\n",
        "    # Get the output tensor\n",
        "    tflite_predictions = interpreter.get_tensor(output_details[0]['index'])\n",
        "    tflite_predicted_class = np.argmax(tflite_predictions[0])\n",
        "    \n",
        "    # Calculate accuracy and loss for TFLite model (Simplified for demonstration)\n",
        "    if tflite_predicted_class == y_test[i]:\n",
        "      tflite_accuracy += 1\n",
        "    # Assuming you have a way to compute loss directly from TFLite output\n",
        "    # ... replace with your actual loss calculation if possible ...\n",
        "    # Example: tflite_loss += some_loss_function(tflite_predictions[0], y_test[i])\n",
        "\n",
        "tflite_accuracy /= num_test_samples\n",
        "print(f\"TFLite Model - Accuracy: {tflite_accuracy}\") # Loss calculation omitted"
      ]
    },
    {
      "cell_type": "code",
      "execution_count": null,
      "metadata": {},
      "outputs": [],
      "source": [
        "# prompt: calculate and compare the size of keras model and tensorflow lite model\n",
        "\n",
        "import os\n",
        "\n",
        "# Get the file size of the Keras model\n",
        "keras_model_size = os.path.getsize('model.keras')\n",
        "print(f\"Keras model size: {keras_model_size} bytes\")\n",
        "\n",
        "# Get the file size of the TensorFlow Lite model\n",
        "tflite_model_size = os.path.getsize('model.tflite')\n",
        "print(f\"TFLite model size: {tflite_model_size} bytes\")\n",
        "\n",
        "# Get the file size of the quantized TensorFlow Lite model\n",
        "tflite_quant_model_size = os.path.getsize('model_quantized.tflite')\n",
        "print(f\"Quantized TFLite model size: {tflite_quant_model_size} bytes\")\n",
        "\n",
        "# Compare the sizes\n",
        "print(\"\\nModel Size Comparison:\")\n",
        "print(f\"Keras model is {keras_model_size / tflite_model_size:.2f} times larger than the TFLite model.\")\n",
        "print(f\"Keras model is {keras_model_size / tflite_quant_model_size:.2f} times larger than the quantized TFLite model.\")\n",
        "print(f\"TFLite model is {tflite_model_size / tflite_quant_model_size:.2f} times larger than the quantized TFLite model.\")"
      ]
    }
  ],
  "metadata": {
    "colab": {
      "provenance": []
    },
    "kernelspec": {
      "display_name": "base",
      "language": "python",
      "name": "python3"
    },
    "language_info": {
      "codemirror_mode": {
        "name": "ipython",
        "version": 3
      },
      "file_extension": ".py",
      "mimetype": "text/x-python",
      "name": "python",
      "nbconvert_exporter": "python",
      "pygments_lexer": "ipython3",
      "version": "3.12.7"
    }
  },
  "nbformat": 4,
  "nbformat_minor": 0
}
